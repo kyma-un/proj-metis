{
 "cells": [
  {
   "cell_type": "markdown",
   "id": "88d03d09",
   "metadata": {},
   "source": [
    "# Environment Verification"
   ]
  },
  {
   "cell_type": "code",
   "execution_count": null,
   "id": "06b8aa6a",
   "metadata": {},
   "outputs": [],
   "source": [
    "import torch\n",
    "import ultralytics\n",
    "\n",
    "print(\"Ultralytics version:\", ultralytics.__version__)\n",
    "print(\"PyTorch version:\", torch.__version__)\n",
    "print(\"CUDA available:\", torch.cuda.is_available())\n",
    "print(\"GPU:\", torch.cuda.get_device_name(0))\n",
    "\n",
    "!nvidia-smi"
   ]
  },
  {
   "cell_type": "markdown",
   "id": "d75009c3",
   "metadata": {},
   "source": [
    "# YOLOv11 Exploration"
   ]
  },
  {
   "cell_type": "code",
   "execution_count": null,
   "id": "04911229",
   "metadata": {},
   "outputs": [],
   "source": [
    "from ultralytics import YOLO\n",
    "from pathlib import Path\n",
    "import shutil\n",
    "\n",
    "model_n = YOLO('yolo11n.pt')\n",
    "model_s = YOLO('yolo11x.pt')"
   ]
  },
  {
   "cell_type": "code",
   "execution_count": null,
   "id": "a4359dfd",
   "metadata": {},
   "outputs": [],
   "source": [
    "data_folder = Path('../data/test_images')\n",
    "results_folder = Path('../results')\n",
    "\n",
    "if results_folder.exists():\n",
    "    shutil.rmtree(results_folder)\n",
    "\n",
    "for file_path in data_folder.iterdir():\n",
    "    if file_path.is_file():\n",
    "        model_n.predict(file_path, show=False, save=True, project=results_folder, name='yolo11n_predictions', exist_ok=True)\n",
    "        model_s(file_path, show=False, save=True, project=results_folder, name='yolo11x_predictions', exist_ok=True)"
   ]
  },
  {
   "cell_type": "markdown",
   "id": "909a387d",
   "metadata": {},
   "source": [
    "# Training Exploration"
   ]
  },
  {
   "cell_type": "code",
   "execution_count": null,
   "id": "04bec948",
   "metadata": {},
   "outputs": [],
   "source": [
    "data_path = \"../data/custom_dataset/data.yaml\"\n",
    "results = model_n.train(data=data_path)"
   ]
  },
  {
   "cell_type": "code",
   "execution_count": null,
   "id": "28885e88",
   "metadata": {},
   "outputs": [],
   "source": [
    "model_tunned = YOLO('runs/detect/train/weights/best.pt')"
   ]
  },
  {
   "cell_type": "code",
   "execution_count": null,
   "id": "4f8a59de",
   "metadata": {},
   "outputs": [],
   "source": [
    "model_tunned.predict('images/Prueba6.jpg', show=False, save=True, project='results', name='tunned_model_predictions', exist_ok=True)"
   ]
  },
  {
   "cell_type": "code",
   "execution_count": null,
   "id": "6f0da41b",
   "metadata": {},
   "outputs": [],
   "source": [
    "results_s = model_s.train(data='training_set/data.yaml', batch=5, imgsz=640)"
   ]
  },
  {
   "cell_type": "markdown",
   "id": "6eecc874",
   "metadata": {},
   "source": [
    "# CPU M-Model Trainining"
   ]
  },
  {
   "cell_type": "code",
   "execution_count": null,
   "id": "378e0bdc",
   "metadata": {},
   "outputs": [],
   "source": [
    "model_m = YOLO('yolo11m.pt')"
   ]
  },
  {
   "cell_type": "code",
   "execution_count": null,
   "id": "ba98094e",
   "metadata": {},
   "outputs": [],
   "source": [
    "model_m.train(data='small_training_set/data.yaml')"
   ]
  }
 ],
 "metadata": {
  "kernelspec": {
   "display_name": "metis",
   "language": "python",
   "name": "python3"
  },
  "language_info": {
   "codemirror_mode": {
    "name": "ipython",
    "version": 3
   },
   "file_extension": ".py",
   "mimetype": "text/x-python",
   "name": "python",
   "nbconvert_exporter": "python",
   "pygments_lexer": "ipython3",
   "version": "3.10.19"
  }
 },
 "nbformat": 4,
 "nbformat_minor": 5
}
